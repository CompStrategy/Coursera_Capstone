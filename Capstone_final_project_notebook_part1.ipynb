{
 "cells": [
  {
   "cell_type": "markdown",
   "metadata": {},
   "source": [
    "## Data Science Capstone Project PART 1 : The Battle of Neighborhoods (Week 1)\n",
    "### By : Damien\n",
    "\n",
    "In this notebook I will outline the answers to \n",
    "\n",
    "    A description of the problem and a discussion of the background. (15 marks)\n",
    "    \n",
    "    A description of the data and how it will be used to solve the problem. (15 marks)\n"
   ]
  },
  {
   "cell_type": "code",
   "execution_count": null,
   "metadata": {},
   "outputs": [],
   "source": []
  },
  {
   "cell_type": "markdown",
   "metadata": {},
   "source": [
    "## Table of Contents\n",
    "\n",
    "<div class=\"alert alert-block alert-info\" style=\"margin-top: 20px\">\n",
    "\n",
    "<font size = 3>\n",
    "    \n",
    "1. <a href=\"#item1\">Description of Problem</a>\n",
    "    \n",
    "2. <a href=\"#item1\">Description of Data</a>\n",
    "    \n",
    "3. <a href=\"#item1\">Methodology : Download, Explore and Clean the Dataset</a>\n",
    "\n",
    "4. <a href=\"#item2\">Methodology : Explore Neighborhoods</a>\n",
    "\n",
    "5. <a href=\"#item3\">Methodology: Analyze Each Zip Code</a>\n",
    "\n",
    "6. <a href=\"#item4\">Methodology: Cluster Neighborhoods(Zip Codes)</a>\n",
    "\n",
    "7. <a href=\"#item5\">Results: Examine Clusters</a> \n",
    "    \n",
    "8. <a href=\"#item5\">Discussion: Observations and recommendations</a> \n",
    "    \n",
    "9. <a href=\"#item5\">Conclusion</a> \n",
    "</font>\n",
    "</div>"
   ]
  },
  {
   "cell_type": "code",
   "execution_count": null,
   "metadata": {},
   "outputs": [],
   "source": []
  },
  {
   "cell_type": "markdown",
   "metadata": {},
   "source": [
    "## Description of Problem "
   ]
  },
  {
   "cell_type": "markdown",
   "metadata": {},
   "source": [
    "Where should I stay when I travel to Fort Lauderdale, Florida, USA on vacation so that I am \n",
    "close to the best shopping malls and close to restuarants and coffee shops ? "
   ]
  },
  {
   "cell_type": "markdown",
   "metadata": {},
   "source": [
    "I like to travel to different cities to experience the local culture, food, athmosphere and of course the best shopping. Bringing all of this data toegther visually is difficult and I would like to be able to see it altogether in a way that is personalised to me. My friends and family will also use it.\n"
   ]
  },
  {
   "cell_type": "markdown",
   "metadata": {},
   "source": [
    "## Description of Data"
   ]
  },
  {
   "cell_type": "markdown",
   "metadata": {},
   "source": [
    "Zipcode data from https://www.zip-codes.com/city/fl-fort-lauderdale.asp \n",
    "for the city of Fort Lauderdale, Florida, USA will be used and combined with Lat-Long data from \n",
    "https://public.opendatasoft.com/explore/dataset/us-zip-code-latitude-and-longitude/table/\n",
    "\n",
    "Only zip codes with population greater than zero will be used to find populated areas for our data set.\n",
    "\n",
    "https://www.10best.com/destinations/florida/fort-lauderdale/shopping/shopping-centers-districts/\n",
    "\n",
    "Will provide the top 10 shopping malls and Lat-Long data from https://www.latlong.net/ for each shopping mall will be acquired and collated. An overlay of top 10 best shopping malls data on the foursquare clustered venue data for the locations will be the final output. New analysis may be possible once initial findings are discovered. The data sets are all on different websites in different formats. A lot of data scraping and wrangling is required to create a clean data set.\n",
    "\n",
    "A new clustered data set will be created and an overlay of shopping mall data will highlight best zip code(s) to stay in when I travel to Fort Lauderdale, Florida, USA.\n",
    "\n"
   ]
  },
  {
   "cell_type": "code",
   "execution_count": null,
   "metadata": {},
   "outputs": [],
   "source": []
  },
  {
   "cell_type": "markdown",
   "metadata": {},
   "source": [
    "## Methodology : Download, Explore and Clean the Dataset"
   ]
  },
  {
   "cell_type": "code",
   "execution_count": null,
   "metadata": {},
   "outputs": [],
   "source": []
  },
  {
   "cell_type": "code",
   "execution_count": null,
   "metadata": {},
   "outputs": [],
   "source": []
  },
  {
   "cell_type": "markdown",
   "metadata": {},
   "source": [
    "<a id='item1'></a>"
   ]
  }
 ],
 "metadata": {
  "kernelspec": {
   "display_name": "Python",
   "language": "python",
   "name": "conda-env-python-py"
  },
  "language_info": {
   "codemirror_mode": {
    "name": "ipython",
    "version": 3
   },
   "file_extension": ".py",
   "mimetype": "text/x-python",
   "name": "python",
   "nbconvert_exporter": "python",
   "pygments_lexer": "ipython3",
   "version": "3.6.7"
  },
  "widgets": {
   "state": {},
   "version": "1.1.2"
  }
 },
 "nbformat": 4,
 "nbformat_minor": 4
}
